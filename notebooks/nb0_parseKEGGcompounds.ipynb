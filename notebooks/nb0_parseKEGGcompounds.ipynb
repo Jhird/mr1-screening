{
 "cells": [
  {
   "cell_type": "markdown",
   "metadata": {},
   "source": [
    "# Description\n",
    "### (April 26 2020)\n",
    "* In this notebook, we use the [BioPython-enabled API](http://biopython.org/DIST/docs/tutorial/Tutorial.html#htoc271) to download all compounds from the KEGG database.\n",
    "* We will try to download as many compounds from /tables/nature_supplementary_cas_no.tsv if we find a matching CAS number"
   ]
  },
  {
   "cell_type": "code",
   "execution_count": 35,
   "metadata": {},
   "outputs": [],
   "source": [
    "# Imports\n",
    "from Bio.KEGG import REST\n",
    "import pandas as pd\n",
    "import time"
   ]
  },
  {
   "cell_type": "code",
   "execution_count": 3,
   "metadata": {},
   "outputs": [],
   "source": [
    "# Read all KEGG compounds\n",
    "compounds = REST.kegg_list('compound').read()"
   ]
  },
  {
   "cell_type": "code",
   "execution_count": 4,
   "metadata": {},
   "outputs": [],
   "source": [
    "# Build dictionary of compound-id -> compound-name\n",
    "kegg_compounds = {}\n",
    "for line in compounds.rstrip().split('\\n'):\n",
    "    entry,description = line.split('\\t')\n",
    "    kegg_compounds[entry] = description"
   ]
  },
  {
   "cell_type": "code",
   "execution_count": 5,
   "metadata": {},
   "outputs": [],
   "source": [
    "# Get KEGG compound entry ids\n",
    "kegg_ids = list(kegg_compounds.keys())"
   ]
  },
  {
   "cell_type": "code",
   "execution_count": 8,
   "metadata": {},
   "outputs": [
    {
     "output_type": "stream",
     "name": "stdout",
     "text": "18700 KEGG compound ids found\n"
    }
   ],
   "source": [
    "print('{} KEGG compound ids found'.format(len(kegg_ids)))"
   ]
  },
  {
   "cell_type": "code",
   "execution_count": 17,
   "metadata": {},
   "outputs": [
    {
     "output_type": "stream",
     "name": "stdout",
     "text": "Processed 6400 compounds\nProcessed 6500 compounds\nProcessed 6600 compounds\nProcessed 6700 compounds\nProcessed 6800 compounds\nProcessed 6900 compounds\nProcessed 7000 compounds\nProcessed 7100 compounds\nProcessed 7200 compounds\nProcessed 7300 compounds\nProcessed 7400 compounds\nProcessed 7500 compounds\nProcessed 7600 compounds\nProcessed 7700 compounds\nProcessed 7800 compounds\nProcessed 7900 compounds\nProcessed 8000 compounds\nProcessed 8100 compounds\nProcessed 8200 compounds\nProcessed 8300 compounds\nProcessed 8400 compounds\nProcessed 8500 compounds\nProcessed 8600 compounds\nProcessed 8700 compounds\nProcessed 8800 compounds\nProcessed 8900 compounds\nProcessed 9000 compounds\nProcessed 9100 compounds\nProcessed 9200 compounds\nProcessed 9300 compounds\nProcessed 9400 compounds\nProcessed 9500 compounds\nProcessed 9600 compounds\nProcessed 9700 compounds\nProcessed 9800 compounds\nProcessed 9900 compounds\nProcessed 10000 compounds\nProcessed 10100 compounds\nProcessed 10200 compounds\nProcessed 10300 compounds\nProcessed 10400 compounds\nProcessed 10500 compounds\nProcessed 10600 compounds\nProcessed 10700 compounds\nProcessed 10800 compounds\nProcessed 10900 compounds\nProcessed 11000 compounds\nProcessed 11100 compounds\nProcessed 11200 compounds\nProcessed 11300 compounds\nProcessed 11400 compounds\nProcessed 11500 compounds\nProcessed 11600 compounds\nProcessed 11700 compounds\nProcessed 11800 compounds\nProcessed 11900 compounds\nProcessed 12000 compounds\nProcessed 12100 compounds\nProcessed 12200 compounds\nProcessed 12300 compounds\nProcessed 12400 compounds\nProcessed 12500 compounds\nProcessed 12600 compounds\nProcessed 12700 compounds\nProcessed 12800 compounds\nProcessed 12900 compounds\nProcessed 13000 compounds\nProcessed 13100 compounds\nProcessed 13200 compounds\nProcessed 13300 compounds\nProcessed 13400 compounds\nProcessed 13500 compounds\nProcessed 13600 compounds\nProcessed 13700 compounds\nProcessed 13800 compounds\nProcessed 13900 compounds\nProcessed 14000 compounds\nProcessed 14100 compounds\nProcessed 14200 compounds\nProcessed 14300 compounds\nProcessed 14400 compounds\nProcessed 14500 compounds\nProcessed 14600 compounds\nProcessed 14700 compounds\nProcessed 14800 compounds\nProcessed 14900 compounds\nProcessed 15000 compounds\nProcessed 15100 compounds\nProcessed 15200 compounds\nProcessed 15300 compounds\nProcessed 15400 compounds\nProcessed 15500 compounds\nProcessed 15600 compounds\nProcessed 15700 compounds\nProcessed 15800 compounds\nProcessed 15900 compounds\nProcessed 16000 compounds\nProcessed 16100 compounds\nProcessed 16200 compounds\nProcessed 16300 compounds\nProcessed 16400 compounds\nProcessed 16500 compounds\nProcessed 16600 compounds\nProcessed 16700 compounds\nProcessed 16800 compounds\nProcessed 16900 compounds\nProcessed 17000 compounds\nProcessed 17100 compounds\nProcessed 17200 compounds\nProcessed 17300 compounds\nProcessed 17400 compounds\nProcessed 17500 compounds\nProcessed 17600 compounds\nProcessed 17700 compounds\nProcessed 17800 compounds\nProcessed 17900 compounds\nProcessed 18000 compounds\nProcessed 18100 compounds\nProcessed 18200 compounds\nProcessed 18300 compounds\nProcessed 18400 compounds\nProcessed 18500 compounds\nProcessed 18600 compounds\n"
    }
   ],
   "source": [
    "# Mine all external DB identifiers for each compound\n",
    "\n",
    "#NOTE this will take a while!\n",
    "start_time = time.time()\n",
    "\n",
    "pubchem_numbers = []\n",
    "chembl_numbers = []\n",
    "cas_numbers = []\n",
    "\n",
    "for i, compound in enumerate(kegg_ids):\n",
    "\n",
    "    # Log progress\n",
    "    if i%1000 == 0:  \n",
    "        print('Processed {} compounds'.format(i))\n",
    "    \n",
    "    c = compound.replace('cpd:','')\n",
    "    test = REST.kegg_get(c).read()\n",
    "    \n",
    "    try:\n",
    "        pubchem = test[test.index('PubChem'):].split('\\n')[0].replace('PubChem: ','')\n",
    "        pubchem_numbers.append(pubchem)\n",
    "\n",
    "    except:\n",
    "        pubchem_numbers.append('')\n",
    "    \n",
    "    try:\n",
    "        chembl = test[test.index('ChEMBL'):].split('\\n')[0].replace('ChEMBL: ','')\n",
    "        chembl_numbers.append(chembl)\n",
    "    except:\n",
    "        chembl_numbers.append('')\n",
    "    \n",
    "    try:\n",
    "        cas = test[test.index('CAS:'):].split('\\n')[0].replace('CAS: ','')\n",
    "        cas_numbers.append(cas)\n",
    "    except:\n",
    "        cas_numbers.append('')\n",
    "\n",
    "print('Total time elapsed: {} seconds'.format(time.time() - start_time))"
   ]
  },
  {
   "cell_type": "code",
   "execution_count": null,
   "metadata": {},
   "outputs": [],
   "source": [
    "# Save results to a dataframe\n",
    "kegg_table = pd.DataFrame()\n",
    "kegg_table['Kegg-id'] = kegg_ids\n",
    "kegg_table['Pubchem-id'] = pubchem_numbers\n",
    "kegg_table['Chembl-id'] = chembl_numbers\n",
    "kegg_table['CAS-number'] = cas_numbers\n",
    "kegg_table.to_csv('../tables/kegg_compounds.tsv', sep='\\t', index=False)"
   ]
  },
  {
   "cell_type": "code",
   "execution_count": 34,
   "metadata": {},
   "outputs": [
    {
     "output_type": "stream",
     "name": "stdout",
     "text": "Finished with success\n"
    }
   ],
   "source": [
    "print('Finished with success')"
   ]
  },
  {
   "cell_type": "code",
   "execution_count": null,
   "metadata": {},
   "outputs": [],
   "source": []
  }
 ],
 "metadata": {
  "language_info": {
   "codemirror_mode": {
    "name": "ipython",
    "version": 3
   },
   "file_extension": ".py",
   "mimetype": "text/x-python",
   "name": "python",
   "nbconvert_exporter": "python",
   "pygments_lexer": "ipython3",
   "version": "3.6.6-final"
  },
  "orig_nbformat": 2,
  "kernelspec": {
   "name": "python36664bitinsightvirtualenv13da1ed10af8423fa649c06228e3173e",
   "display_name": "Python 3.6.6 64-bit ('insight': virtualenv)"
  }
 },
 "nbformat": 4,
 "nbformat_minor": 2
}