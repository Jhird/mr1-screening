{
 "cells": [
  {
   "cell_type": "markdown",
   "metadata": {},
   "source": [
    "# Description\n",
    "### (April 26 2020)\n",
    "* In this notebook, we use the [BioPython-enabled API](http://biopython.org/DIST/docs/tutorial/Tutorial.html#htoc271) to download all compounds from the KEGG database.\n",
    "* We will try to download as many compounds from /tables/nature_supplementary_cas_no.tsv if we find a matching CAS number"
   ]
  },
  {
   "cell_type": "code",
   "execution_count": 1,
   "metadata": {},
   "outputs": [],
   "source": [
    "# Imports\n",
    "from Bio.KEGG import REST\n",
    "import pandas as pd\n",
    "import time"
   ]
  },
  {
   "cell_type": "code",
   "execution_count": 2,
   "metadata": {},
   "outputs": [],
   "source": [
    "# Read all KEGG compounds\n",
    "compounds = REST.kegg_list('compound').read()"
   ]
  },
  {
   "cell_type": "code",
   "execution_count": 4,
   "metadata": {},
   "outputs": [],
   "source": [
    "# Build dictionary of compound-id -> compound-name\n",
    "kegg_compounds = {}\n",
    "for line in compounds.rstrip().split('\\n'):\n",
    "    entry,description = line.split('\\t')\n",
    "    kegg_compounds[entry] = description"
   ]
  },
  {
   "cell_type": "code",
   "execution_count": 5,
   "metadata": {},
   "outputs": [],
   "source": [
    "# Get KEGG compound entry ids\n",
    "kegg_ids = list(kegg_compounds.keys())"
   ]
  },
  {
   "cell_type": "code",
   "execution_count": 8,
   "metadata": {},
   "outputs": [
    {
     "name": "stdout",
     "output_type": "stream",
     "text": [
      "18700 KEGG compound ids found\n"
     ]
    }
   ],
   "source": [
    "print('{} KEGG compound ids found'.format(len(kegg_ids)))"
   ]
  },
  {
   "cell_type": "code",
   "execution_count": 17,
   "metadata": {},
   "outputs": [
    {
     "name": "stdout",
     "output_type": "stream",
     "text": [
      "Processed 6400 compounds\n",
      "Processed 6500 compounds\n",
      "Processed 6600 compounds\n",
      "Processed 6700 compounds\n",
      "Processed 6800 compounds\n",
      "Processed 6900 compounds\n",
      "Processed 7000 compounds\n",
      "Processed 7100 compounds\n",
      "Processed 7200 compounds\n",
      "Processed 7300 compounds\n",
      "Processed 7400 compounds\n",
      "Processed 7500 compounds\n",
      "Processed 7600 compounds\n",
      "Processed 7700 compounds\n",
      "Processed 7800 compounds\n",
      "Processed 7900 compounds\n",
      "Processed 8000 compounds\n",
      "Processed 8100 compounds\n",
      "Processed 8200 compounds\n",
      "Processed 8300 compounds\n",
      "Processed 8400 compounds\n",
      "Processed 8500 compounds\n",
      "Processed 8600 compounds\n",
      "Processed 8700 compounds\n",
      "Processed 8800 compounds\n",
      "Processed 8900 compounds\n",
      "Processed 9000 compounds\n",
      "Processed 9100 compounds\n",
      "Processed 9200 compounds\n",
      "Processed 9300 compounds\n",
      "Processed 9400 compounds\n",
      "Processed 9500 compounds\n",
      "Processed 9600 compounds\n",
      "Processed 9700 compounds\n",
      "Processed 9800 compounds\n",
      "Processed 9900 compounds\n",
      "Processed 10000 compounds\n",
      "Processed 10100 compounds\n",
      "Processed 10200 compounds\n",
      "Processed 10300 compounds\n",
      "Processed 10400 compounds\n",
      "Processed 10500 compounds\n",
      "Processed 10600 compounds\n",
      "Processed 10700 compounds\n",
      "Processed 10800 compounds\n",
      "Processed 10900 compounds\n",
      "Processed 11000 compounds\n",
      "Processed 11100 compounds\n",
      "Processed 11200 compounds\n",
      "Processed 11300 compounds\n",
      "Processed 11400 compounds\n",
      "Processed 11500 compounds\n",
      "Processed 11600 compounds\n",
      "Processed 11700 compounds\n",
      "Processed 11800 compounds\n",
      "Processed 11900 compounds\n",
      "Processed 12000 compounds\n",
      "Processed 12100 compounds\n",
      "Processed 12200 compounds\n",
      "Processed 12300 compounds\n",
      "Processed 12400 compounds\n",
      "Processed 12500 compounds\n",
      "Processed 12600 compounds\n",
      "Processed 12700 compounds\n",
      "Processed 12800 compounds\n",
      "Processed 12900 compounds\n",
      "Processed 13000 compounds\n",
      "Processed 13100 compounds\n",
      "Processed 13200 compounds\n",
      "Processed 13300 compounds\n",
      "Processed 13400 compounds\n",
      "Processed 13500 compounds\n",
      "Processed 13600 compounds\n",
      "Processed 13700 compounds\n",
      "Processed 13800 compounds\n",
      "Processed 13900 compounds\n",
      "Processed 14000 compounds\n",
      "Processed 14100 compounds\n",
      "Processed 14200 compounds\n",
      "Processed 14300 compounds\n",
      "Processed 14400 compounds\n",
      "Processed 14500 compounds\n",
      "Processed 14600 compounds\n",
      "Processed 14700 compounds\n",
      "Processed 14800 compounds\n",
      "Processed 14900 compounds\n",
      "Processed 15000 compounds\n",
      "Processed 15100 compounds\n",
      "Processed 15200 compounds\n",
      "Processed 15300 compounds\n",
      "Processed 15400 compounds\n",
      "Processed 15500 compounds\n",
      "Processed 15600 compounds\n",
      "Processed 15700 compounds\n",
      "Processed 15800 compounds\n",
      "Processed 15900 compounds\n",
      "Processed 16000 compounds\n",
      "Processed 16100 compounds\n",
      "Processed 16200 compounds\n",
      "Processed 16300 compounds\n",
      "Processed 16400 compounds\n",
      "Processed 16500 compounds\n",
      "Processed 16600 compounds\n",
      "Processed 16700 compounds\n",
      "Processed 16800 compounds\n",
      "Processed 16900 compounds\n",
      "Processed 17000 compounds\n",
      "Processed 17100 compounds\n",
      "Processed 17200 compounds\n",
      "Processed 17300 compounds\n",
      "Processed 17400 compounds\n",
      "Processed 17500 compounds\n",
      "Processed 17600 compounds\n",
      "Processed 17700 compounds\n",
      "Processed 17800 compounds\n",
      "Processed 17900 compounds\n",
      "Processed 18000 compounds\n",
      "Processed 18100 compounds\n",
      "Processed 18200 compounds\n",
      "Processed 18300 compounds\n",
      "Processed 18400 compounds\n",
      "Processed 18500 compounds\n",
      "Processed 18600 compounds\n"
     ]
    }
   ],
   "source": [
    "# Mine all external DB identifiers for each compound\n",
    "\n",
    "#NOTE this will take a while!\n",
    "start_time = time.time()\n",
    "\n",
    "pubchem_numbers = []\n",
    "chembl_numbers = []\n",
    "cas_numbers = []\n",
    "\n",
    "for i, compound in enumerate(kegg_ids):\n",
    "\n",
    "    # Log progress\n",
    "    if i%1000 == 0:  \n",
    "        print('Processed {} compounds'.format(i))\n",
    "    \n",
    "    c = compound.replace('cpd:','')\n",
    "    test = REST.kegg_get(c).read()\n",
    "    \n",
    "    try:\n",
    "        pubchem = test[test.index('PubChem'):].split('\\n')[0].replace('PubChem: ','')\n",
    "        pubchem_numbers.append(pubchem)\n",
    "\n",
    "    except:\n",
    "        pubchem_numbers.append('')\n",
    "    \n",
    "    try:\n",
    "        chembl = test[test.index('ChEMBL'):].split('\\n')[0].replace('ChEMBL: ','')\n",
    "        chembl_numbers.append(chembl)\n",
    "    except:\n",
    "        chembl_numbers.append('')\n",
    "    \n",
    "    try:\n",
    "        cas = test[test.index('CAS:'):].split('\\n')[0].replace('CAS: ','')\n",
    "        cas_numbers.append(cas)\n",
    "    except:\n",
    "        cas_numbers.append('')\n",
    "\n",
    "print('Total time elapsed: {} seconds'.format(time.time() - start_time))"
   ]
  },
  {
   "cell_type": "code",
   "execution_count": null,
   "metadata": {},
   "outputs": [],
   "source": [
    "# Save results to a dataframe\n",
    "kegg_table = pd.DataFrame()\n",
    "kegg_table['Kegg-id'] = kegg_ids\n",
    "kegg_table['Pubchem-id'] = pubchem_numbers\n",
    "kegg_table['Chembl-id'] = chembl_numbers\n",
    "kegg_table['CAS-number'] = cas_numbers\n",
    "kegg_table.to_csv('../tables/kegg_compounds.tsv', sep='\\t', index=False)"
   ]
  },
  {
   "cell_type": "code",
   "execution_count": 34,
   "metadata": {},
   "outputs": [
    {
     "name": "stdout",
     "output_type": "stream",
     "text": [
      "Finished with success\n"
     ]
    }
   ],
   "source": [
    "print('Finished with success')"
   ]
  },
  {
   "cell_type": "code",
   "execution_count": null,
   "metadata": {},
   "outputs": [],
   "source": []
  }
 ],
 "metadata": {
  "kernelspec": {
   "display_name": "Python 3",
   "language": "python",
   "name": "python3"
  },
  "language_info": {
   "codemirror_mode": {
    "name": "ipython",
    "version": 3
   },
   "file_extension": ".py",
   "mimetype": "text/x-python",
   "name": "python",
   "nbconvert_exporter": "python",
   "pygments_lexer": "ipython3",
   "version": "3.6.8"
  }
 },
 "nbformat": 4,
 "nbformat_minor": 2
}
