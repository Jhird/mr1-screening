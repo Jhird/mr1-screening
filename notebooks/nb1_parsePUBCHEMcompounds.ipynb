{
 "cells": [
  {
   "cell_type": "markdown",
   "metadata": {},
   "source": [
    "# Description\n",
    "### (April 26 2020)\n",
    "* In this notebook, we use the [Pubchem-Py](https://pubchempy.readthedocs.io/en/latest/guide/gettingstarted.html) to obtain all SMILES and INCHI strings for all compounds found in KEGG (see `nb0_parseKEGGcompunds.ipynb`)."
   ]
  },
  {
   "cell_type": "code",
   "execution_count": 2,
   "metadata": {},
   "outputs": [],
   "source": [
    "# Imports\n",
    "import pubchempy as pcp\n",
    "import pandas as pd\n",
    "import time"
   ]
  },
  {
   "cell_type": "markdown",
   "metadata": {},
   "source": [
    "## Get SMILES and InChI strings from Pubchem IDs in `../tables/kegg_compounds.tsv`"
   ]
  },
  {
   "cell_type": "code",
   "execution_count": 3,
   "metadata": {},
   "outputs": [
    {
     "output_type": "execute_result",
     "data": {
      "text/plain": "      Kegg-id  Pubchem-id                    Chembl-id CAS-number\n0  cpd:C00001      3303.0                CHEMBL1098659  7732-18-5\n1  cpd:C00002      3304.0                  CHEMBL14249    56-65-5\n2  cpd:C00003      3305.0  CHEMBL1234613 CHEMBL1454168    53-84-9",
      "text/html": "<div>\n<style scoped>\n    .dataframe tbody tr th:only-of-type {\n        vertical-align: middle;\n    }\n\n    .dataframe tbody tr th {\n        vertical-align: top;\n    }\n\n    .dataframe thead th {\n        text-align: right;\n    }\n</style>\n<table border=\"1\" class=\"dataframe\">\n  <thead>\n    <tr style=\"text-align: right;\">\n      <th></th>\n      <th>Kegg-id</th>\n      <th>Pubchem-id</th>\n      <th>Chembl-id</th>\n      <th>CAS-number</th>\n    </tr>\n  </thead>\n  <tbody>\n    <tr>\n      <th>0</th>\n      <td>cpd:C00001</td>\n      <td>3303.0</td>\n      <td>CHEMBL1098659</td>\n      <td>7732-18-5</td>\n    </tr>\n    <tr>\n      <th>1</th>\n      <td>cpd:C00002</td>\n      <td>3304.0</td>\n      <td>CHEMBL14249</td>\n      <td>56-65-5</td>\n    </tr>\n    <tr>\n      <th>2</th>\n      <td>cpd:C00003</td>\n      <td>3305.0</td>\n      <td>CHEMBL1234613 CHEMBL1454168</td>\n      <td>53-84-9</td>\n    </tr>\n  </tbody>\n</table>\n</div>"
     },
     "metadata": {},
     "execution_count": 3
    }
   ],
   "source": [
    "kegg_compounds = pd.read_csv('../tables/kegg_compounds.tsv', sep='\\t')\n",
    "kegg_compounds.head(3)"
   ]
  },
  {
   "cell_type": "code",
   "execution_count": 20,
   "metadata": {},
   "outputs": [
    {
     "output_type": "stream",
     "name": "stdout",
     "text": "Processed 14000 compounds\nElapsed time so far: 68.2527129650116 seconds\nProcessed 15000 compounds\nElapsed time so far: 545.9440810680389 seconds\nProcessed 16000 compounds\nElapsed time so far: 1036.1503551006317 seconds\nProcessed 17000 compounds\nElapsed time so far: 1470.3248751163483 seconds\nProcessed 18000 compounds\nElapsed time so far: 1832.9193739891052 seconds\nTotal time elapsed: 2009.9433789253235 seconds\n"
    }
   ],
   "source": [
    "# Get strings\n",
    "\n",
    "#NOTE: This will take a while\n",
    "start_time = time.time()\n",
    "\n",
    "pubchem_numbers = list(kegg_compounds['Pubchem-id'])\n",
    "isomeric_smiles = []\n",
    "canonical_smiles = []\n",
    "inchi_strings = []\n",
    "\n",
    "for i, pubchem_id in enumerate(pubchem_numbers):\n",
    "    \n",
    "    # Log progress\n",
    "    if i%1000 == 0 and i > 0:\n",
    "        print('Processed {} compounds'.format(i))\n",
    "        print('Elapsed time so far: {} seconds'.format(time.time() - start_time))\n",
    "\n",
    "    if pubchem_id == '' or str(pubchem_id) == 'nan':\n",
    "        isomeric_smiles.append('')\n",
    "        canonical_smiles.append('')\n",
    "        inchi_strings.append('')\n",
    "\n",
    "    else:\n",
    "        try:    \n",
    "            iso_smiles, cano_smiles, inchi = getStringRepresentations(pubchem_id)\n",
    "            isomeric_smiles.append(iso_smiles)\n",
    "            canonical_smiles.append(cano_smiles)\n",
    "            inchi_strings.append(inchi)\n",
    "        except:\n",
    "            isomeric_smiles.append('')\n",
    "            canonical_smiles.append('')\n",
    "            inchi_strings.append('')\n",
    "\n",
    "print('Total time elapsed: {} seconds'.format(time.time() - start_time))"
   ]
  },
  {
   "cell_type": "code",
   "execution_count": 21,
   "metadata": {},
   "outputs": [
    {
     "output_type": "stream",
     "name": "stdout",
     "text": "18700\n18700\n18700\n18700\n"
    }
   ],
   "source": [
    "print(len(pubchem_numbers))\n",
    "print(len(isomeric_smiles))\n",
    "print(len(canonical_smiles))\n",
    "print(len(inchi_strings))"
   ]
  },
  {
   "cell_type": "code",
   "execution_count": 28,
   "metadata": {},
   "outputs": [],
   "source": [
    "# Save results to .tsv file\n",
    "f = open('../data/kegg_compound_strings.tsv', 'w')\n",
    "f.write('\\t'.join(['Pubchem-id','Isomeric-SMILES','Canonical-SMILES','InChI']) + '\\n')\n",
    "for i in range(len(pubchem_numbers)):\n",
    "    if str(pubchem_numbers[i]) == 'nan':\n",
    "        f.write('-1\\t')\n",
    "    else:\n",
    "        f.write(str(int(pubchem_numbers[i])) + '\\t')\n",
    "    f.write('\\t'.join([str(isomeric_smiles[i]), str(canonical_smiles[i]), str(inchi_strings[i])]) + '\\n')\n",
    "f.close()"
   ]
  },
  {
   "cell_type": "code",
   "execution_count": null,
   "metadata": {},
   "outputs": [],
   "source": []
  }
 ],
 "metadata": {
  "language_info": {
   "codemirror_mode": {
    "name": "ipython",
    "version": 3
   },
   "file_extension": ".py",
   "mimetype": "text/x-python",
   "name": "python",
   "nbconvert_exporter": "python",
   "pygments_lexer": "ipython3",
   "version": "3.6.6-final"
  },
  "orig_nbformat": 2,
  "kernelspec": {
   "name": "python36664bitinsightvirtualenv13da1ed10af8423fa649c06228e3173e",
   "display_name": "Python 3.6.6 64-bit ('insight': virtualenv)"
  }
 },
 "nbformat": 4,
 "nbformat_minor": 2
}