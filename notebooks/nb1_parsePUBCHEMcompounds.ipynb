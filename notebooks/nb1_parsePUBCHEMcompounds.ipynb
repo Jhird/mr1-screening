{
 "cells": [
  {
   "cell_type": "markdown",
   "metadata": {},
   "source": [
    "# Description\n",
    "### (April 26 2020)\n",
    "* In this notebook, we use the [Pubchem-Py](https://pubchempy.readthedocs.io/en/latest/guide/gettingstarted.html) to obtain all SMILES and INCHI strings for all compounds found in KEGG (see `nb0_parseKEGGcompunds.ipynb`).\n",
    "* We will try to download as many compounds from /tables/nature_supplementary_cas_no.tsv if we find a matching CAS number"
   ]
  },
  {
   "cell_type": "code",
   "execution_count": 1,
   "metadata": {},
   "outputs": [],
   "source": [
    "# Imports\n",
    "import pubchempy as pcp\n",
    "import pandas as pd"
   ]
  },
  {
   "cell_type": "code",
   "execution_count": 2,
   "metadata": {},
   "outputs": [],
   "source": [
    "# Test with Aspiring (cid = 2244)\n",
    "c = pcp.Compound.from_cid(2244)"
   ]
  },
  {
   "cell_type": "code",
   "execution_count": 4,
   "metadata": {},
   "outputs": [
    {
     "output_type": "execute_result",
     "data": {
      "text/plain": "['aspirin',\n 'ACETYLSALICYLIC ACID',\n '50-78-2',\n '2-Acetoxybenzoic acid',\n '2-(Acetyloxy)benzoic acid',\n 'o-Acetoxybenzoic acid',\n 'Acylpyrin',\n 'O-Acetylsalicylic acid',\n 'Easprin',\n 'Ecotrin']"
     },
     "metadata": {},
     "execution_count": 4
    }
   ],
   "source": [
    "# Get synonyms (should include CAS number)\n",
    "c.synonyms[0:10]"
   ]
  },
  {
   "cell_type": "code",
   "execution_count": 5,
   "metadata": {},
   "outputs": [
    {
     "output_type": "execute_result",
     "data": {
      "text/plain": "'CC(=O)OC1=CC=CC=C1C(=O)O'"
     },
     "metadata": {},
     "execution_count": 5
    }
   ],
   "source": [
    "# Get Isomeric SMILES\n",
    "c.isomeric_smiles"
   ]
  },
  {
   "cell_type": "code",
   "execution_count": 7,
   "metadata": {},
   "outputs": [
    {
     "output_type": "execute_result",
     "data": {
      "text/plain": "'CC(=O)OC1=CC=CC=C1C(=O)O'"
     },
     "metadata": {},
     "execution_count": 7
    }
   ],
   "source": [
    "# Get Canonical SMILES\n",
    "c.canonical_smiles"
   ]
  },
  {
   "cell_type": "code",
   "execution_count": 6,
   "metadata": {},
   "outputs": [
    {
     "output_type": "execute_result",
     "data": {
      "text/plain": "'InChI=1S/C9H8O4/c1-6(10)13-8-5-3-2-4-7(8)9(11)12/h2-5H,1H3,(H,11,12)'"
     },
     "metadata": {},
     "execution_count": 6
    }
   ],
   "source": [
    "# Get InChI\n",
    "c.inchi"
   ]
  },
  {
   "cell_type": "code",
   "execution_count": null,
   "metadata": {},
   "outputs": [],
   "source": []
  }
 ],
 "metadata": {
  "language_info": {
   "codemirror_mode": {
    "name": "ipython",
    "version": 3
   },
   "file_extension": ".py",
   "mimetype": "text/x-python",
   "name": "python",
   "nbconvert_exporter": "python",
   "pygments_lexer": "ipython3",
   "version": "3.6.6-final"
  },
  "orig_nbformat": 2,
  "kernelspec": {
   "name": "python36664bitinsightvirtualenv13da1ed10af8423fa649c06228e3173e",
   "display_name": "Python 3.6.6 64-bit ('insight': virtualenv)"
  }
 },
 "nbformat": 4,
 "nbformat_minor": 2
}