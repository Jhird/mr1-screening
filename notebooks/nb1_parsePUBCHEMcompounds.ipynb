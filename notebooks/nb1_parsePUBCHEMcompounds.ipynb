{
 "cells": [
  {
   "cell_type": "markdown",
   "metadata": {},
   "source": [
    "# Description\n",
    "### (April 26 2020)\n",
    "* In this notebook, we use the [Pubchem-Py](https://pubchempy.readthedocs.io/en/latest/guide/gettingstarted.html) to obtain all SMILES and INCHI strings for all compounds found in KEGG (see `nb0_parseKEGGcompunds.ipynb`).\n",
    "\n",
    "* We will repeat the SMILES extraction for the compounds in `/tables/nature_supplementary_compounds.tsv` which we found in Pubchem using the CAS number as a synonym name in PubchemPy as follows:\n",
    "\n",
    "```python\n",
    "def getPubchemFromName(compound_name):\n",
    "    results = pcp.get_compounds(compound_name, 'name')\n",
    "    if len(results) == 1:\n",
    "        return str(results[0].cid)\n",
    "    else:\n",
    "        return 'multiple'\n",
    "\n",
    "pubchem_numbers = [getPubchemFromName(n) for n in list(nature_compounds['CAS-number'])]\n",
    "```"
   ]
  },
  {
   "cell_type": "code",
   "execution_count": 2,
   "metadata": {},
   "outputs": [],
   "source": [
    "# Imports\n",
    "import pubchempy as pcp\n",
    "import pandas as pd"
   ]
  },
  {
   "cell_type": "markdown",
   "metadata": {},
   "source": [
    "## Get SMILES and InChI strings from Pubchem IDs in `../tables/nature_supplementary_compounds.tsv`"
   ]
  },
  {
   "cell_type": "code",
   "execution_count": 25,
   "metadata": {},
   "outputs": [
    {
     "output_type": "execute_result",
     "data": {
      "text/plain": "                                             Name CAS-number      MW  \\\n0              1-Amino-2-naphthol-4-sulfonic acid   116-63-2  239.25   \n1  1,2-Naphthoquinone-4-sulfonic acid sodium salt   521-24-4  260.20   \n2                 1,2,4-Benzenetricarboxylic acid   528-44-9  210.14   \n\n   Pubchem-id  \n0        8316  \n1      516996  \n2       10708  ",
      "text/html": "<div>\n<style scoped>\n    .dataframe tbody tr th:only-of-type {\n        vertical-align: middle;\n    }\n\n    .dataframe tbody tr th {\n        vertical-align: top;\n    }\n\n    .dataframe thead th {\n        text-align: right;\n    }\n</style>\n<table border=\"1\" class=\"dataframe\">\n  <thead>\n    <tr style=\"text-align: right;\">\n      <th></th>\n      <th>Name</th>\n      <th>CAS-number</th>\n      <th>MW</th>\n      <th>Pubchem-id</th>\n    </tr>\n  </thead>\n  <tbody>\n    <tr>\n      <th>0</th>\n      <td>1-Amino-2-naphthol-4-sulfonic acid</td>\n      <td>116-63-2</td>\n      <td>239.25</td>\n      <td>8316</td>\n    </tr>\n    <tr>\n      <th>1</th>\n      <td>1,2-Naphthoquinone-4-sulfonic acid sodium salt</td>\n      <td>521-24-4</td>\n      <td>260.20</td>\n      <td>516996</td>\n    </tr>\n    <tr>\n      <th>2</th>\n      <td>1,2,4-Benzenetricarboxylic acid</td>\n      <td>528-44-9</td>\n      <td>210.14</td>\n      <td>10708</td>\n    </tr>\n  </tbody>\n</table>\n</div>"
     },
     "metadata": {},
     "execution_count": 25
    }
   ],
   "source": [
    "nature_compounds = pd.read_csv('../tables/nature_supplementary_compounds.tsv', sep='\\t')\n",
    "nature_compounds.head(3)"
   ]
  },
  {
   "cell_type": "code",
   "execution_count": 26,
   "metadata": {},
   "outputs": [],
   "source": [
    "# Function to extract strings from PubChem\n",
    "def getStringRepresentations(pubchem_id):\n",
    "    cid = int(pubchem_id)\n",
    "    c = pcp.Compound.from_cid(cid)\n",
    "    return c.isomeric_smiles, c.canonical_smiles, c.inchi"
   ]
  },
  {
   "cell_type": "code",
   "execution_count": 27,
   "metadata": {},
   "outputs": [],
   "source": [
    "# Get strings\n",
    "pubchem_numbers = list(nature_compounds['Pubchem-id'])\n",
    "isomeric_smiles = []\n",
    "canonical_smiles = []\n",
    "inchi_strings = []\n",
    "for pubchem_id in pubchem_numbers:\n",
    "    iso_smiles, cano_smiles, inchi = getStringRepresentations(pubchem_id)\n",
    "    isomeric_smiles.append(iso_smiles)\n",
    "    canonical_smiles.append(cano_smiles)\n",
    "    inchi_strings.append(inchi)"
   ]
  },
  {
   "cell_type": "code",
   "execution_count": 31,
   "metadata": {},
   "outputs": [],
   "source": [
    "# Save results to dataframe\n",
    "reference_df = pd.DataFrame()\n",
    "reference_df['Pubchem-id'] = pubchem_numbers\n",
    "reference_df['Isomeric-SMILES'] = isomeric_smiles\n",
    "reference_df['Canonical-SMILES'] = canonical_smiles\n",
    "reference_df['InChI'] = inchi_strings\n",
    "reference_df.to_csv('../data/reference_compound_strings.tsv', sep='\\t', index=False)"
   ]
  },
  {
   "cell_type": "code",
   "execution_count": null,
   "metadata": {},
   "outputs": [],
   "source": []
  }
 ],
 "metadata": {
  "language_info": {
   "codemirror_mode": {
    "name": "ipython",
    "version": 3
   },
   "file_extension": ".py",
   "mimetype": "text/x-python",
   "name": "python",
   "nbconvert_exporter": "python",
   "pygments_lexer": "ipython3",
   "version": "3.6.6-final"
  },
  "orig_nbformat": 2,
  "kernelspec": {
   "name": "python36664bitinsightvirtualenv13da1ed10af8423fa649c06228e3173e",
   "display_name": "Python 3.6.6 64-bit ('insight': virtualenv)"
  }
 },
 "nbformat": 4,
 "nbformat_minor": 2
}