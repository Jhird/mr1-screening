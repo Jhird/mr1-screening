{
 "cells": [
  {
   "cell_type": "markdown",
   "metadata": {},
   "source": [
    "# Description\n",
    "### (April 26 2020)\n",
    "* In this notebook, we use the [RDKit](https://www.rdkit.org/docs/) to calculate the similarity between two molecules from their SMILES representations."
   ]
  },
  {
   "cell_type": "code",
   "execution_count": 1,
   "metadata": {},
   "outputs": [],
   "source": [
    "# Imports\n",
    "from rdkit import Chem,DataStructs\n",
    "import time\n",
    "import pandas as pd"
   ]
  },
  {
   "cell_type": "code",
   "execution_count": 2,
   "metadata": {},
   "outputs": [
    {
     "output_type": "stream",
     "name": "stdout",
     "text": "RDK fingerprint:  0.4268867924528302\nTotal elapsed time to make calculation: 0.002062082290649414 seconds\n"
    }
   ],
   "source": [
    "# Example 1 - Using SMILES\n",
    "mol1 = Chem.MolFromSmiles(\"CC(C)C=CCCCCC(=O)NCc1ccc(c(c1)OC)O\")\n",
    "mol2 = Chem.MolFromSmiles(\"COC1=C(C=CC(=C1)C=O)O\")\n",
    "fp1 = Chem.RDKFingerprint(mol1)\n",
    "fp2 = Chem.RDKFingerprint(mol2)\n",
    "start_time = time.time()\n",
    "print(\"RDK fingerprint: \",DataStructs.TanimotoSimilarity(fp1,fp2))\n",
    "print(\"Total elapsed time to make calculation: {} seconds\".format(time.time() - start_time))"
   ]
  },
  {
   "cell_type": "code",
   "execution_count": 3,
   "metadata": {},
   "outputs": [
    {
     "output_type": "stream",
     "name": "stdout",
     "text": "RDK fingerprint:  0.8777292576419214\nTotal elapsed time to make calculation: 0.0013492107391357422 seconds\n"
    }
   ],
   "source": [
    "# Example 2 - Using InChI\n",
    "mol3 = Chem.MolFromInchi(\"InChI=1S/C8H8O3/c1-11-8-3-2-6(5-9)4-7(8)10/h2-5,10H,1H3\") # Isovanillin\n",
    "mol4 = Chem.MolFromInchi(\"InChI=1S/C8H8O3/c1-11-8-4-6(5-9)2-3-7(8)10/h2-5,10H,1H3\") # Vanillin\n",
    "fp3 = Chem.RDKFingerprint(mol3)\n",
    "fp4 = Chem.RDKFingerprint(mol4)\n",
    "start_time = time.time()\n",
    "print(\"RDK fingerprint: \",DataStructs.TanimotoSimilarity(fp3,fp4))\n",
    "print(\"Total elapsed time to make calculation: {} seconds\".format(time.time() - start_time))"
   ]
  },
  {
   "cell_type": "code",
   "execution_count": 4,
   "metadata": {},
   "outputs": [
    {
     "output_type": "stream",
     "name": "stdout",
     "text": "RDK fingerprint:  0.8777292576419214\nTotal elapsed time to make calculation: 0.0014407634735107422 seconds\n"
    }
   ],
   "source": [
    "# Example 3 - Is Tanimoto Similarity the same as above if using SMILES instead?\n",
    "mol5 = Chem.MolFromSmiles(\"COC1=C(C=C(C=C1)C=O)O\") # Isovanillin\n",
    "mol6 = Chem.MolFromSmiles(\"COC1=C(C=CC(=C1)C=O)O\") # Vanillin\n",
    "fp5 = Chem.RDKFingerprint(mol5)\n",
    "fp6 = Chem.RDKFingerprint(mol6)\n",
    "start_time = time.time()\n",
    "print(\"RDK fingerprint: \",DataStructs.TanimotoSimilarity(fp5,fp6))\n",
    "print(\"Total elapsed time to make calculation: {} seconds\".format(time.time() - start_time))"
   ]
  },
  {
   "cell_type": "code",
   "execution_count": null,
   "metadata": {},
   "outputs": [],
   "source": []
  }
 ],
 "metadata": {
  "language_info": {
   "codemirror_mode": {
    "name": "ipython",
    "version": 3
   },
   "file_extension": ".py",
   "mimetype": "text/x-python",
   "name": "python",
   "nbconvert_exporter": "python",
   "pygments_lexer": "ipython3",
   "version": "3.6.6-final"
  },
  "orig_nbformat": 2,
  "kernelspec": {
   "name": "python36664bitinsightvirtualenv13da1ed10af8423fa649c06228e3173e",
   "display_name": "Python 3.6.6 64-bit ('insight': virtualenv)"
  }
 },
 "nbformat": 4,
 "nbformat_minor": 2
}