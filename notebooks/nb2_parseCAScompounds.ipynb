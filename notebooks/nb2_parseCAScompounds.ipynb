{
 "cells": [
  {
   "cell_type": "markdown",
   "metadata": {},
   "source": [
    "# Description\n",
    "### (April 26 2020)\n",
    "* In this notebook, we use the [Pubchem-Py](https://pubchempy.readthedocs.io/en/latest/guide/gettingstarted.html) to obtain all SMILES and INCHI strings for all compounds found in in `/tables/nature_supplementary_compounds.tsv` \n",
    "\n",
    "* Unlike `nb1`, we will search for these compounds using the CAS number as a synonym name in PubchemPy"
   ]
  },
  {
   "cell_type": "code",
   "execution_count": null,
   "metadata": {},
   "outputs": [],
   "source": [
    "# Imports\n",
    "import pubchempy as pcp\n",
    "import pandas as pd\n",
    "import time"
   ]
  },
  {
   "cell_type": "markdown",
   "metadata": {},
   "source": [
    "## Get SMILES and InChI strings from Pubchem IDs in `../tables/nature_supplementary_compounds.tsv`"
   ]
  },
  {
   "cell_type": "code",
   "execution_count": null,
   "metadata": {},
   "outputs": [],
   "source": [
    "nature_compounds = pd.read_csv('../tables/nature_supplementary_compounds.tsv', sep='\\t')\n",
    "nature_compounds.head(3)"
   ]
  },
  {
   "cell_type": "code",
   "execution_count": null,
   "metadata": {},
   "outputs": [],
   "source": [
    "def getPubchemFromName(compound_name):\n",
    "    results = pcp.get_compounds(compound_name, 'name')\n",
    "    if len(results) == 1:\n",
    "        return str(results[0].cid)\n",
    "    else:\n",
    "        return 'multiple' #NOTE make sure you manually search for these CAS-no to have a complete table"
   ]
  },
  {
   "cell_type": "code",
   "execution_count": null,
   "metadata": {},
   "outputs": [],
   "source": [
    "#NOTE We will use CAS-number instead of name as our query in PubChem\n",
    "pubchem_numbers = [getPubchemFromName(n) for n in list(nature_compounds['CAS-number'])]"
   ]
  },
  {
   "cell_type": "code",
   "execution_count": null,
   "metadata": {},
   "outputs": [],
   "source": [
    "# Get strings\n",
    "pubchem_numbers = list(nature_compounds['Pubchem-id'])\n",
    "isomeric_smiles = []\n",
    "canonical_smiles = []\n",
    "inchi_strings = []\n",
    "for pubchem_id in pubchem_numbers:\n",
    "    iso_smiles, cano_smiles, inchi = getStringRepresentations(pubchem_id)\n",
    "    isomeric_smiles.append(iso_smiles)\n",
    "    canonical_smiles.append(cano_smiles)\n",
    "    inchi_strings.append(inchi)"
   ]
  },
  {
   "cell_type": "code",
   "execution_count": null,
   "metadata": {},
   "outputs": [],
   "source": [
    "# Save results to dataframe\n",
    "reference_df = pd.DataFrame()\n",
    "reference_df['Pubchem-id'] = pubchem_numbers\n",
    "reference_df['Isomeric-SMILES'] = isomeric_smiles\n",
    "reference_df['Canonical-SMILES'] = canonical_smiles\n",
    "reference_df['InChI'] = inchi_strings\n",
    "reference_df.to_csv('../data/reference_compound_strings.tsv', sep='\\t', index=False)"
   ]
  }
 ],
 "metadata": {
  "language_info": {
   "codemirror_mode": {
    "name": "ipython",
    "version": 3
   },
   "file_extension": ".py",
   "mimetype": "text/x-python",
   "name": "python",
   "nbconvert_exporter": "python",
   "pygments_lexer": "ipython3",
   "version": 3
  },
  "orig_nbformat": 2
 },
 "nbformat": 4,
 "nbformat_minor": 2
}